{
 "cells": [
  {
   "cell_type": "markdown",
   "id": "fb82e872",
   "metadata": {},
   "source": [
    "<h1>Паутинообразная модель ценообразования с обучением<h1>\n",
    "<h3>Работу выполнил студент 3-го курса ЭФ СПбГУ гр. 20.б03-э Шатров Д.И. в 2023 г.<h3>"
   ]
  },
  {
   "cell_type": "markdown",
   "id": "bbccc833",
   "metadata": {},
   "source": [
    "Модель построена в стандартных предпосылках.<br>\n",
    "Переменные состояния:<br>\n",
    "* $P_t$ -- цена к началу года $t$;\n",
    "* $S_t$ -- предложение к началу $t$;\n",
    "* $D_t$ --спрос к началу $t$.<br>\n",
    "Функционирование:\n",
    "* $f_D(P)$ не возрастает;\n",
    "* $f_S(P)$ не убывает;\n",
    "* $\\exists P^*:f_D(P^*)=f_S(P^*)$.<br>\n",
    "Рассмотрим модель с обучением:\n",
    "\\begin{align*}\n",
    "&D_t = A-BP_t+U_t\\\\\n",
    "&S_t = C+E(P_{t-1}-k\\Delta P_{t-1})+V_t\\\\\n",
    "&\\Delta P_{t-1}=P_{t-1}-P_{t-2}\n",
    "\\end{align*}"
   ]
  },
  {
   "cell_type": "code",
   "execution_count": 1,
   "id": "41870ab9",
   "metadata": {},
   "outputs": [],
   "source": [
    "import sys, os\n",
    "import numpy as np\n",
    "import matplotlib.pyplot as plt\n",
    "import pandas as pd\n",
    "from math import sqrt\n",
    "from IPython.display import display, Math\n",
    "from scipy import linspace\n",
    "import random\n",
    "from collections import defaultdict"
   ]
  },
  {
   "cell_type": "code",
   "execution_count": 2,
   "id": "7cae8386",
   "metadata": {},
   "outputs": [],
   "source": [
    "def suppress_print():\n",
    "    sys.stdout = open(os.devnull, 'w')\n",
    "\n",
    "# Restore\n",
    "def restore_print():\n",
    "    sys.stdout = sys.__stdout__"
   ]
  },
  {
   "cell_type": "markdown",
   "id": "12ea89ba",
   "metadata": {},
   "source": [
    "<h2>Функции спроса и предложения.</h2>\n",
    "    Функции спроса и предложения создаются как экземпляры класса Dt для спроса и St для предложения. При создании функции нужно задать её неотрицательные параметры в терминах уравнений модели с обучениям. Для параметра $k$ обучения значение по умолчанию нулевое.<br><br>Ошибки $U_t,V_t$ являются гауссовским белым шумом. В текущем варианте модели иные распределения ошибок не предусмотрены. Дисперсия ошибки регулируется параметром sigma. По умолчанию значение параметра равно единице.<br><br>\n",
    "    Вычисление значения функции осуществляется с помощью вызова метода $q$, которому на вход передаётся цена.\n",
    "    <br><br>\n",
    "    Метод $p$ класса Dt вычисляет цену покупки (продажи) товара при заданном объёме рынка.<br><br>\n",
    "    Для обоих классов предусмотрен метод spec, возвращающий сразу весь список параметров (спецификацию) заданной функции спроса (предложения) и выводящий на экран запись уравнения в этой спецификации."
   ]
  },
  {
   "cell_type": "code",
   "execution_count": 3,
   "id": "b8300ca4",
   "metadata": {},
   "outputs": [],
   "source": [
    "class Dt:\n",
    "    def __init__(self, A, B, sigma = 1):\n",
    "        assert(A>=0 and B>=0)\n",
    "        self.A = A\n",
    "        self.B = B\n",
    "        self.sigma = sigma\n",
    "    def q(self, P):\n",
    "        assert P>=0, \"Цена не может быть отрицательной!\"\n",
    "        U = np.random.normal(0, self.sigma)\n",
    "        val = self.A - self.B * P + U\n",
    "        if val>=0:\n",
    "            return self.A - self.B * P + U\n",
    "        else:\n",
    "            return 0\n",
    "    def p(self, Q):\n",
    "        assert Q>=0, \"Нельзя купить отрицательное количество товара!\"\n",
    "        U = np.random.normal(0,self.sigma)\n",
    "        if self.B == 0:\n",
    "            val = self.A + U\n",
    "        else:\n",
    "            val = (self.A + U - Q) / self.B\n",
    "        if val>0:\n",
    "            return val\n",
    "        else:\n",
    "            return 0\n",
    "    def spec(self):\n",
    "        #print(\"D_t = %0.2f-%0.2fP_t+U_t\"%(self.A, self.B))\n",
    "        display(Math(r\"D_t={}-{}P_t+U_t\".format(self.A, self.B)))\n",
    "        return [self.A, self.B]\n",
    "        "
   ]
  },
  {
   "cell_type": "code",
   "execution_count": 4,
   "id": "99d84b97",
   "metadata": {},
   "outputs": [],
   "source": [
    "class St:\n",
    "    def __init__(self, C, E, k = 0, sigma = 1):\n",
    "        assert(C>=0 and E>=0 and k>=0)\n",
    "        self.C = C\n",
    "        self. E = E\n",
    "        self.k = k\n",
    "        self.sigma = sigma\n",
    "    def q(self, P1, P2 = 0):\n",
    "        assert P1>=0 and P2>=0, \"Цена не может быть отрицательной!\"\n",
    "        V = np.random.normal(0, self.sigma)\n",
    "        val =  self.C + self.E*P1-self.k * (P1-P2) + V\n",
    "        if val>= 0:\n",
    "            return val\n",
    "        else:\n",
    "            return 0\n",
    "    def spec(self):\n",
    "        if self.k == 0:\n",
    "            #print(\"S_t = %0.2f+%0.2fP_(t-1)+V_t\"%(self.C, self.E))\n",
    "            display(Math(r\"S_t={}+{}P_{{t-1}}+V_t\".format(self.C, self.E)))\n",
    "        else:\n",
    "            #print(\"S_t = %0.2f-%0.2f[P_(t-1)-%0.2fdP_(t-1)]+V_t\"%(self.C, self.E, self.k))\n",
    "            display(Math(r\"S_t={}+{}(P_{{t-1}}-{}\\Delta P_{{t-1}})+V_t\".format(self.C, self.E, self.k)))\n",
    "        return [self.C, self.E, self.k]"
   ]
  },
  {
   "cell_type": "code",
   "execution_count": 5,
   "id": "39261ba3",
   "metadata": {},
   "outputs": [
    {
     "data": {
      "text/latex": [
       "$\\displaystyle D_t=200-4P_t+U_t$"
      ],
      "text/plain": [
       "<IPython.core.display.Math object>"
      ]
     },
     "metadata": {},
     "output_type": "display_data"
    },
    {
     "data": {
      "text/latex": [
       "$\\displaystyle S_t=40+3(P_{t-1}-0.05\\Delta P_{t-1})+V_t$"
      ],
      "text/plain": [
       "<IPython.core.display.Math object>"
      ]
     },
     "metadata": {},
     "output_type": "display_data"
    }
   ],
   "source": [
    "#Функция спроса\n",
    "spros = Dt(200,4,sigma = 1)\n",
    "#Функция предложения\n",
    "predl = St(40,3,0.05, sigma = 1)\n",
    "spros.spec();\n",
    "predl.spec();"
   ]
  },
  {
   "cell_type": "markdown",
   "id": "9a7ea438",
   "metadata": {},
   "source": [
    "Функция cobweb принимает на вход начальную цену на рынке, функцию спроса и функцию предложения и возвращает список состояний рынка, выраженных объёмом рынка и ценой в каждый из периодов."
   ]
  },
  {
   "cell_type": "code",
   "execution_count": 6,
   "id": "49aea647",
   "metadata": {},
   "outputs": [],
   "source": [
    "#собрать список состояний рынка, построить по точкам графики спроса и предложения, паутину\n",
    "def cobweb(P, D, S, maxiter = 9000):\n",
    "    flag = 0\n",
    "    PQ = {\"Цена\":[],\"Объём рынка\":[S.q(P)]}\n",
    "    iter = 0\n",
    "    price = D.p(S.q(P))\n",
    "    qty = S.q(price)\n",
    "    PQ[\"Цена\"].append(price)\n",
    "    PQ[\"Объём рынка\"].append(qty)\n",
    "    price = D.p(qty)\n",
    "    PQ[\"Цена\"].append(price)\n",
    "    while iter < maxiter:\n",
    "        iter+=1\n",
    "        qty = S.q(price)\n",
    "        price = D.p(qty)\n",
    "        if abs(qty - PQ[\"Объём рынка\"][-1]) < min(PQ[\"Объём рынка\"])/10000:\n",
    "            print(\"Подбор остановлен!\")\n",
    "            break\n",
    "        PQ[\"Цена\"].append(price)\n",
    "        PQ[\"Объём рынка\"].append(qty)\n",
    "    if abs(D.q(price) - qty) < min(PQ[\"Объём рынка\"])/25 + max([sqrt(S.sigma), sqrt(D.sigma)]):\n",
    "        print(\"Модель сошлась на значениях P = %0.2f, Q = %0.2f.\"%(PQ['Цена'][-1], PQ[\"Объём рынка\"][-1]))\n",
    "        flag = 1\n",
    "    else:\n",
    "        print(\"Модель не сошлась! Равновесие не найдено.\")\n",
    "        print(\"P:%0.2f, Q:%0.2f\"%(PQ['Цена'][-1],PQ['Объём рынка'][-1]))\n",
    "    print(\"Итераций:%d\"%(iter))\n",
    "    return PQ, flag"
   ]
  },
  {
   "cell_type": "code",
   "execution_count": 7,
   "id": "8d41e3ca",
   "metadata": {
    "scrolled": false
   },
   "outputs": [
    {
     "name": "stdout",
     "output_type": "stream",
     "text": [
      "Подбор остановлен!\n",
      "Модель сошлась на значениях P = 22.85, Q = 107.19.\n",
      "Итераций:91\n"
     ]
    }
   ],
   "source": [
    "market, conv = cobweb(5,spros,predl)\n"
   ]
  },
  {
   "cell_type": "markdown",
   "id": "9c86f769",
   "metadata": {},
   "source": [
    "Функция cws создаёт $m$ случайных паутинообразных моделей ценообразования с обучением, по $n$ раз проводит расчёты для каждой из них и сводит усреднённые результаты в таблицу. Таблица выводится на экран. Значения $m,n$ по умоланию равны десяти, но могут быть иными (в т.ч. различными).<br><br>\n",
    "Дополнительно функции $cws$ могут быть переданы верхние границы для коэффициентов уравнений модели. Также можно передать точное значение дисперсии ошибок (она здесь фиксируется для всех моделей и функций)."
   ]
  },
  {
   "cell_type": "code",
   "execution_count": 8,
   "id": "9d0d97e1",
   "metadata": {},
   "outputs": [],
   "source": [
    "def cws(m = 10, n = 10, Abound = 100, Bbound = 10, Cbound = 20, Ebound = 10, kbound = 0.05, s = 1):\n",
    "    Aval, Bval, Cval, Eval, kval = ([] for i in range(5))\n",
    "    searched = pd.DataFrame(columns = [\"Спрос\",\"Предложение\",\"Сошлось (доля)\", \"Выпуск\", \"Цена\"])\n",
    "    for j in range(m):\n",
    "        Aval.append(random.uniform(0, Abound))\n",
    "        Bval.append(random.uniform(0, Bbound))\n",
    "        Cval.append(random.uniform(0, Cbound))\n",
    "        Eval.append(random.uniform(0, Ebound))\n",
    "        kval.append(random.uniform(0, kbound))\n",
    "        S_t = St(Cval[-1], Eval[-1], kval[-1], sigma = s)\n",
    "        D_t = Dt(Aval[-1], Bval[-1], sigma = s)\n",
    "        flagval, Qval, Pval = ([] for i in range(3))\n",
    "        suppress_print()\n",
    "        for t in range(n):\n",
    "            PQ, flag = cobweb(3, D_t, S_t)\n",
    "            flagval.append(flag)\n",
    "            Qval.append(PQ[\"Объём рынка\"][-1])\n",
    "            Pval.append(PQ[\"Цена\"][-1])\n",
    "        modelres = {\"Спрос\":r\"{:.2f}-{:.2f}P_t+U_t\".format(D_t.A, D_t.B), \n",
    "                    \"Предложение\":r\"{:.2f}+{:.2f}(P_{{t-1}}-{:.2f}dP_{{t-1}})+V_t\".format(S_t.C, S_t.E, S_t.k),\n",
    "                    \"Сошлось (доля)\":round(sum(flagval) / n,2),\n",
    "                    \"Выпуск\":round(sum(Qval) / n,2),\n",
    "                    \"Цена\":round(sum(Pval) / n,2)}\n",
    "        #searched = searched.append(modelres, ignore_index=True)\n",
    "        searched = pd.concat([searched, pd.DataFrame([modelres])], ignore_index=True)\n",
    "        restore_print()\n",
    "        \n",
    "    return searched\n",
    "    "
   ]
  },
  {
   "cell_type": "code",
   "execution_count": 9,
   "id": "85b13eb3",
   "metadata": {},
   "outputs": [
    {
     "data": {
      "text/html": [
       "<div>\n",
       "<style scoped>\n",
       "    .dataframe tbody tr th:only-of-type {\n",
       "        vertical-align: middle;\n",
       "    }\n",
       "\n",
       "    .dataframe tbody tr th {\n",
       "        vertical-align: top;\n",
       "    }\n",
       "\n",
       "    .dataframe thead th {\n",
       "        text-align: right;\n",
       "    }\n",
       "</style>\n",
       "<table border=\"1\" class=\"dataframe\">\n",
       "  <thead>\n",
       "    <tr style=\"text-align: right;\">\n",
       "      <th></th>\n",
       "      <th>Спрос</th>\n",
       "      <th>Предложение</th>\n",
       "      <th>Сошлось (доля)</th>\n",
       "      <th>Выпуск</th>\n",
       "      <th>Цена</th>\n",
       "    </tr>\n",
       "  </thead>\n",
       "  <tbody>\n",
       "    <tr>\n",
       "      <th>0</th>\n",
       "      <td>4.50-6.10P_t+U_t</td>\n",
       "      <td>1.21+1.74(P_{t-1}-0.01dP_{t-1})+V_t</td>\n",
       "      <td>0.5</td>\n",
       "      <td>1.43</td>\n",
       "      <td>0.55</td>\n",
       "    </tr>\n",
       "    <tr>\n",
       "      <th>1</th>\n",
       "      <td>0.11-0.59P_t+U_t</td>\n",
       "      <td>0.75+7.88(P_{t-1}-0.02dP_{t-1})+V_t</td>\n",
       "      <td>0.0</td>\n",
       "      <td>3.96</td>\n",
       "      <td>0.0</td>\n",
       "    </tr>\n",
       "    <tr>\n",
       "      <th>2</th>\n",
       "      <td>99.19-1.13P_t+U_t</td>\n",
       "      <td>10.03+7.98(P_{t-1}-0.03dP_{t-1})+V_t</td>\n",
       "      <td>0.0</td>\n",
       "      <td>632.37</td>\n",
       "      <td>0.0</td>\n",
       "    </tr>\n",
       "    <tr>\n",
       "      <th>3</th>\n",
       "      <td>55.04-2.13P_t+U_t</td>\n",
       "      <td>3.22+1.82(P_{t-1}-0.05dP_{t-1})+V_t</td>\n",
       "      <td>1.0</td>\n",
       "      <td>26.73</td>\n",
       "      <td>13.28</td>\n",
       "    </tr>\n",
       "    <tr>\n",
       "      <th>4</th>\n",
       "      <td>49.21-5.42P_t+U_t</td>\n",
       "      <td>9.75+8.87(P_{t-1}-0.04dP_{t-1})+V_t</td>\n",
       "      <td>0.25</td>\n",
       "      <td>25.35</td>\n",
       "      <td>5.6</td>\n",
       "    </tr>\n",
       "    <tr>\n",
       "      <th>5</th>\n",
       "      <td>67.82-0.76P_t+U_t</td>\n",
       "      <td>16.20+6.90(P_{t-1}-0.03dP_{t-1})+V_t</td>\n",
       "      <td>0.0</td>\n",
       "      <td>491.22</td>\n",
       "      <td>0.0</td>\n",
       "    </tr>\n",
       "    <tr>\n",
       "      <th>6</th>\n",
       "      <td>72.57-5.75P_t+U_t</td>\n",
       "      <td>8.67+8.76(P_{t-1}-0.01dP_{t-1})+V_t</td>\n",
       "      <td>0.0</td>\n",
       "      <td>106.9</td>\n",
       "      <td>0.0</td>\n",
       "    </tr>\n",
       "    <tr>\n",
       "      <th>7</th>\n",
       "      <td>69.12-4.40P_t+U_t</td>\n",
       "      <td>1.52+4.33(P_{t-1}-0.00dP_{t-1})+V_t</td>\n",
       "      <td>0.5</td>\n",
       "      <td>37.66</td>\n",
       "      <td>7.1</td>\n",
       "    </tr>\n",
       "    <tr>\n",
       "      <th>8</th>\n",
       "      <td>88.16-5.71P_t+U_t</td>\n",
       "      <td>17.97+0.03(P_{t-1}-0.05dP_{t-1})+V_t</td>\n",
       "      <td>1.0</td>\n",
       "      <td>17.63</td>\n",
       "      <td>12.34</td>\n",
       "    </tr>\n",
       "    <tr>\n",
       "      <th>9</th>\n",
       "      <td>39.36-8.35P_t+U_t</td>\n",
       "      <td>19.44+3.67(P_{t-1}-0.02dP_{t-1})+V_t</td>\n",
       "      <td>0.5</td>\n",
       "      <td>25.61</td>\n",
       "      <td>1.68</td>\n",
       "    </tr>\n",
       "  </tbody>\n",
       "</table>\n",
       "</div>"
      ],
      "text/plain": [
       "               Спрос                           Предложение Сошлось (доля)  \\\n",
       "0   4.50-6.10P_t+U_t   1.21+1.74(P_{t-1}-0.01dP_{t-1})+V_t            0.5   \n",
       "1   0.11-0.59P_t+U_t   0.75+7.88(P_{t-1}-0.02dP_{t-1})+V_t            0.0   \n",
       "2  99.19-1.13P_t+U_t  10.03+7.98(P_{t-1}-0.03dP_{t-1})+V_t            0.0   \n",
       "3  55.04-2.13P_t+U_t   3.22+1.82(P_{t-1}-0.05dP_{t-1})+V_t            1.0   \n",
       "4  49.21-5.42P_t+U_t   9.75+8.87(P_{t-1}-0.04dP_{t-1})+V_t           0.25   \n",
       "5  67.82-0.76P_t+U_t  16.20+6.90(P_{t-1}-0.03dP_{t-1})+V_t            0.0   \n",
       "6  72.57-5.75P_t+U_t   8.67+8.76(P_{t-1}-0.01dP_{t-1})+V_t            0.0   \n",
       "7  69.12-4.40P_t+U_t   1.52+4.33(P_{t-1}-0.00dP_{t-1})+V_t            0.5   \n",
       "8  88.16-5.71P_t+U_t  17.97+0.03(P_{t-1}-0.05dP_{t-1})+V_t            1.0   \n",
       "9  39.36-8.35P_t+U_t  19.44+3.67(P_{t-1}-0.02dP_{t-1})+V_t            0.5   \n",
       "\n",
       "   Выпуск   Цена  \n",
       "0    1.43   0.55  \n",
       "1    3.96    0.0  \n",
       "2  632.37    0.0  \n",
       "3   26.73  13.28  \n",
       "4   25.35    5.6  \n",
       "5  491.22    0.0  \n",
       "6   106.9    0.0  \n",
       "7   37.66    7.1  \n",
       "8   17.63  12.34  \n",
       "9   25.61   1.68  "
      ]
     },
     "execution_count": 9,
     "metadata": {},
     "output_type": "execute_result"
    }
   ],
   "source": [
    "cws(m = 10, n = 4)"
   ]
  }
 ],
 "metadata": {
  "kernelspec": {
   "display_name": "Python 3 (ipykernel)",
   "language": "python",
   "name": "python3"
  },
  "language_info": {
   "codemirror_mode": {
    "name": "ipython",
    "version": 3
   },
   "file_extension": ".py",
   "mimetype": "text/x-python",
   "name": "python",
   "nbconvert_exporter": "python",
   "pygments_lexer": "ipython3",
   "version": "3.9.12"
  }
 },
 "nbformat": 4,
 "nbformat_minor": 5
}
